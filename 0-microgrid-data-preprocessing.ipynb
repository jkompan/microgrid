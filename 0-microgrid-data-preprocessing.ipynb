{
 "cells": [
  {
   "cell_type": "code",
   "execution_count": 1,
   "metadata": {},
   "outputs": [],
   "source": [
    "import os\n",
    "import pandas as pd\n",
    "import numpy as np\n",
    "import re"
   ]
  },
  {
   "cell_type": "code",
   "execution_count": 2,
   "metadata": {},
   "outputs": [],
   "source": [
    "dir = '../data/CityLearn2021-data/'"
   ]
  },
  {
   "cell_type": "code",
   "execution_count": 120,
   "metadata": {},
   "outputs": [],
   "source": [
    "# demand data\n",
    "for filename in os.listdir(dir):\n",
    "    if not filename.startswith('Building_'):\n",
    "        continue\n",
    "    filepath = os.path.join(dir, filename)\n",
    "    if filename=='Building_1.csv':\n",
    "        df = pd.read_csv(filepath)\n",
    "        df['DayType'] = df['Day Type'].astype('int64').astype('category')\n",
    "        df['DaylightSavings'] = df['Daylight Savings Status'].astype('int64').astype('category')\n",
    "        df['NSLoad'] = df.iloc[:,7]+df.iloc[:,8]+df.iloc[:,9]\n",
    "        df.drop(df.columns[2:10], axis=1, inplace=True)\n",
    "    else:\n",
    "        temp = pd.read_csv(filepath)\n",
    "        df['NSLoad'] += temp.iloc[:,7]+temp.iloc[:,8]+temp.iloc[:,9]\n",
    "\n",
    "# solar installed data\n",
    "filepath = os.path.join(dir, 'building_attributes_base.json')\n",
    "with open(filepath,'r') as f:\n",
    "    solar = re.findall('(?<=\"Solar_Power_Installed\\(kW\\)\":)\\d+',f.read())\n",
    "    solar = [int(s) for s in solar]\n",
    "    \n",
    "# solar generation data\n",
    "filepath = os.path.join(dir, 'solar_generation_1kW.csv')\n",
    "temp = pd.read_csv(filepath)\n",
    "df['SolarGen'] = 0\n",
    "for val in solar:\n",
    "    df['SolarGen'] += val*temp.iloc[:,1]/100\n",
    "\n",
    "# rates\n",
    "# filepath = os.path.join(dir, 'prices.csv')\n",
    "# temp = pd.read_csv(filepath)\n",
    "# temp.drop(temp.columns[5:8],axis=1,inplace=True)\n",
    "# temp['DayType'] = temp['Day Type']\n",
    "# temp = temp.groupby(['Month','DayType','Hour'])['Electricity Pricing [$]'].mean().reset_index()\n",
    "# df = pd.merge(df, temp, on=['Month','DayType','Hour'],how='left')\n",
    "filepath = os.path.join(dir, 'prices.csv')\n",
    "temp = pd.read_csv(filepath)\n",
    "df['Price'] = temp.iloc[:,0]\n",
    "\n",
    "# weather data\n",
    "filepath = os.path.join(dir, 'weather_data.csv')\n",
    "temp = pd.read_csv(filepath)\n",
    "df = pd.concat([df,temp],axis=1)"
   ]
  },
  {
   "cell_type": "code",
   "execution_count": 121,
   "metadata": {},
   "outputs": [
    {
     "name": "stdout",
     "output_type": "stream",
     "text": [
      "Month                                                int64\n",
      "Hour                                                 int64\n",
      "DayType                                           category\n",
      "DaylightSavings                                   category\n",
      "NSLoad                                             float64\n",
      "SolarGen                                           float64\n",
      "Price                                              float64\n",
      "Outdoor Drybulb Temperature [C]                    float64\n",
      "Outdoor Relative Humidity [%]                      float64\n",
      "Diffuse Solar Radiation [W/m2]                     float64\n",
      "Direct Solar Radiation [W/m2]                      float64\n",
      "6h Prediction Outdoor Drybulb Temperature [C]      float64\n",
      "12h Prediction Outdoor Drybulb Temperature [C]     float64\n",
      "24h Prediction Outdoor Drybulb Temperature [C]     float64\n",
      "6h Prediction Outdoor Relative Humidity [%]        float64\n",
      "12h Prediction Outdoor Relative Humidity [%]       float64\n",
      "24h Prediction Outdoor Relative Humidity [%]       float64\n",
      "6h Prediction Diffuse Solar Radiation [W/m2]       float64\n",
      "12h Prediction Diffuse Solar Radiation [W/m2]      float64\n",
      "24h Prediction Diffuse Solar Radiation [W/m2]      float64\n",
      "6h Prediction Direct Solar Radiation [W/m2]        float64\n",
      "12h Prediction Direct Solar Radiation [W/m2]       float64\n",
      "24h Prediction Direct Solar Radiation [W/m2]       float64\n",
      "dtype: object\n"
     ]
    }
   ],
   "source": [
    "print(df.dtypes)"
   ]
  }
 ],
 "metadata": {
  "kernelspec": {
   "display_name": "mastervenv",
   "language": "python",
   "name": "python3"
  },
  "language_info": {
   "codemirror_mode": {
    "name": "ipython",
    "version": 3
   },
   "file_extension": ".py",
   "mimetype": "text/x-python",
   "name": "python",
   "nbconvert_exporter": "python",
   "pygments_lexer": "ipython3",
   "version": "3.10.0"
  }
 },
 "nbformat": 4,
 "nbformat_minor": 2
}
