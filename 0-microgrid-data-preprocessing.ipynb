{
 "cells": [
  {
   "cell_type": "code",
   "execution_count": 40,
   "metadata": {},
   "outputs": [],
   "source": [
    "import os\n",
    "import pandas as pd\n",
    "import numpy as np\n",
    "import re"
   ]
  },
  {
   "cell_type": "code",
   "execution_count": 41,
   "metadata": {},
   "outputs": [],
   "source": [
    "dir = '../data/CityLearn2021-data/'"
   ]
  },
  {
   "cell_type": "code",
   "execution_count": 55,
   "metadata": {},
   "outputs": [],
   "source": [
    "with open(os.path.join(dir, 'building_attributes.json'),'r') as f:\n",
    "    solar = re.findall('(?<=\"Solar_Power_Installed\\(kW\\)\":)\\d+',f.read())\n",
    "    solar = [int(s) for s in solar]"
   ]
  },
  {
   "cell_type": "code",
   "execution_count": 69,
   "metadata": {},
   "outputs": [],
   "source": [
    "for filename in os.listdir(dir):\n",
    "    if not filename.startswith('Building_'):\n",
    "        continue\n",
    "    filepath = os.path.join(dir, filename)\n",
    "    if filename=='Building_1.csv':\n",
    "        df = pd.read_csv(filepath)\n",
    "        df['DayType'] = df['Day Type'].astype('int64').astype('category')\n",
    "        df['DaylightSavings'] = df['Daylight Savings Status'].astype('int64').astype('category')\n",
    "        df['NSLoad'] = df.iloc[:,7]+df.iloc[:,8]+df.iloc[:,9]\n",
    "        df.drop(df.columns[2:10], axis=1, inplace=True)\n",
    "    else:\n",
    "        temp = pd.read_csv(filepath)\n",
    "        df['NSLoad'] += temp.iloc[:,7]+temp.iloc[:,8]+temp.iloc[:,9]"
   ]
  },
  {
   "cell_type": "code",
   "execution_count": 77,
   "metadata": {},
   "outputs": [
    {
     "name": "stdout",
     "output_type": "stream",
     "text": [
      "Month                 int64\n",
      "Hour                  int64\n",
      "DayType            category\n",
      "DaylightSavings    category\n",
      "NSLoad              float64\n",
      "dtype: object\n"
     ]
    }
   ],
   "source": [
    "print(df.dtypes)"
   ]
  },
  {
   "cell_type": "code",
   "execution_count": 78,
   "metadata": {},
   "outputs": [
    {
     "data": {
      "text/html": [
       "<div>\n",
       "<style scoped>\n",
       "    .dataframe tbody tr th:only-of-type {\n",
       "        vertical-align: middle;\n",
       "    }\n",
       "\n",
       "    .dataframe tbody tr th {\n",
       "        vertical-align: top;\n",
       "    }\n",
       "\n",
       "    .dataframe thead th {\n",
       "        text-align: right;\n",
       "    }\n",
       "</style>\n",
       "<table border=\"1\" class=\"dataframe\">\n",
       "  <thead>\n",
       "    <tr style=\"text-align: right;\">\n",
       "      <th></th>\n",
       "      <th>Month</th>\n",
       "      <th>Hour</th>\n",
       "      <th>NSLoad</th>\n",
       "    </tr>\n",
       "  </thead>\n",
       "  <tbody>\n",
       "    <tr>\n",
       "      <th>count</th>\n",
       "      <td>35040.000000</td>\n",
       "      <td>35040.000000</td>\n",
       "      <td>35040.000000</td>\n",
       "    </tr>\n",
       "    <tr>\n",
       "      <th>mean</th>\n",
       "      <td>6.526027</td>\n",
       "      <td>12.500000</td>\n",
       "      <td>402.229136</td>\n",
       "    </tr>\n",
       "    <tr>\n",
       "      <th>std</th>\n",
       "      <td>3.447901</td>\n",
       "      <td>6.922285</td>\n",
       "      <td>289.517056</td>\n",
       "    </tr>\n",
       "    <tr>\n",
       "      <th>min</th>\n",
       "      <td>1.000000</td>\n",
       "      <td>1.000000</td>\n",
       "      <td>47.500000</td>\n",
       "    </tr>\n",
       "    <tr>\n",
       "      <th>25%</th>\n",
       "      <td>4.000000</td>\n",
       "      <td>6.750000</td>\n",
       "      <td>173.960000</td>\n",
       "    </tr>\n",
       "    <tr>\n",
       "      <th>50%</th>\n",
       "      <td>7.000000</td>\n",
       "      <td>12.500000</td>\n",
       "      <td>296.020000</td>\n",
       "    </tr>\n",
       "    <tr>\n",
       "      <th>75%</th>\n",
       "      <td>10.000000</td>\n",
       "      <td>18.250000</td>\n",
       "      <td>602.722500</td>\n",
       "    </tr>\n",
       "    <tr>\n",
       "      <th>max</th>\n",
       "      <td>12.000000</td>\n",
       "      <td>24.000000</td>\n",
       "      <td>1273.660000</td>\n",
       "    </tr>\n",
       "  </tbody>\n",
       "</table>\n",
       "</div>"
      ],
      "text/plain": [
       "              Month          Hour        NSLoad\n",
       "count  35040.000000  35040.000000  35040.000000\n",
       "mean       6.526027     12.500000    402.229136\n",
       "std        3.447901      6.922285    289.517056\n",
       "min        1.000000      1.000000     47.500000\n",
       "25%        4.000000      6.750000    173.960000\n",
       "50%        7.000000     12.500000    296.020000\n",
       "75%       10.000000     18.250000    602.722500\n",
       "max       12.000000     24.000000   1273.660000"
      ]
     },
     "execution_count": 78,
     "metadata": {},
     "output_type": "execute_result"
    }
   ],
   "source": [
    "df.describe()"
   ]
  }
 ],
 "metadata": {
  "kernelspec": {
   "display_name": "mastervenv",
   "language": "python",
   "name": "python3"
  },
  "language_info": {
   "codemirror_mode": {
    "name": "ipython",
    "version": 3
   },
   "file_extension": ".py",
   "mimetype": "text/x-python",
   "name": "python",
   "nbconvert_exporter": "python",
   "pygments_lexer": "ipython3",
   "version": "3.10.0"
  }
 },
 "nbformat": 4,
 "nbformat_minor": 2
}
